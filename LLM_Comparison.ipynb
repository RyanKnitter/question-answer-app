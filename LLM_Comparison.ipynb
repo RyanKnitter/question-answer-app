{
 "cells": [
  {
   "cell_type": "code",
   "execution_count": 1,
   "metadata": {},
   "outputs": [
    {
     "name": "stderr",
     "output_type": "stream",
     "text": [
      "C:\\Users\\c062387\\PythonEnvs\\uw\\lib\\site-packages\\tqdm\\auto.py:21: TqdmWarning: IProgress not found. Please update jupyter and ipywidgets. See https://ipywidgets.readthedocs.io/en/stable/user_install.html\n",
      "  from .autonotebook import tqdm as notebook_tqdm\n"
     ]
    }
   ],
   "source": [
    "import requests\n",
    "import streamlit as st\n",
    "from streamlit_lottie import st_lottie\n",
    "\n",
    "import torch\n",
    "from transformers import pipeline\n",
    "\n",
    "from langchain import PromptTemplate, LLMChain\n",
    "from langchain.llms import HuggingFacePipeline"
   ]
  },
  {
   "cell_type": "markdown",
   "metadata": {},
   "source": [
    "# Load Models"
   ]
  },
  {
   "cell_type": "code",
   "execution_count": 2,
   "metadata": {},
   "outputs": [],
   "source": [
    "dolly = 'C:/Users/c062387/OneDrive - Thrivent Financial/Documents/Documents/UW Analytics Team/GitRepos/question-answer-app/dolly/'\n",
    "xdoc = 'C:/Users/c062387/OneDrive - Thrivent Financial/Documents/Documents/UW Analytics Team/GitRepos/question-answer-app/xdoc/squad2/'\n",
    "\n",
    "def get_models(dolly, xdoc):\n",
    "    generate_text = pipeline(model=dolly, torch_dtype=torch.bfloat16,\n",
    "                            trust_remote_code=True, device_map=\"auto\", return_full_text=True)\n",
    "\n",
    "    qa_model = pipeline('question-answering', model=xdoc, tokenizer=xdoc)\n",
    "\n",
    "    return generate_text, qa_model\n",
    "\n",
    "generate_text, qa_model = get_models(dolly, xdoc)"
   ]
  },
  {
   "cell_type": "markdown",
   "metadata": {},
   "source": [
    "# Dolly Template"
   ]
  },
  {
   "cell_type": "code",
   "execution_count": 4,
   "metadata": {},
   "outputs": [],
   "source": [
    "prompt_with_context = PromptTemplate(\n",
    "    input_variables=[\"instruction\", \"context\"],\n",
    "    template=\"{instruction}\\n\\nInput:\\n{context}\")\n",
    "\n",
    "hf_pipeline = HuggingFacePipeline(pipeline=generate_text)\n",
    "\n",
    "llm_context_chain = LLMChain(llm=hf_pipeline, prompt=prompt_with_context)\n",
    "\n",
    "# Ask questions\n",
    "def ask_xdoc(question, context):\n",
    "    return qa_model({'question': question,'context': context}).get('answer')\n",
    "\n",
    "def ask_dolly(question, context):\n",
    "    return llm_context_chain.predict(instruction=question, context=context).lstrip()"
   ]
  },
  {
   "cell_type": "code",
   "execution_count": 23,
   "metadata": {},
   "outputs": [
    {
     "name": "stdout",
     "output_type": "stream",
     "text": [
      "\n",
      "Tobacco products, especially when smoked or used orally, have negative effects on human health, and concerns about these effects have existed for a long time. Research has focused primarily on cigarette smoking.[1][2]\n",
      "\n",
      "Tobacco smoke contains more than 70 chemicals that cause cancer.[3] It also contains nicotine, which is a highly addictive psychoactive drug. When tobacco is smoked, nicotine causes physical and psychological dependency. Cigarettes sold in underdeveloped countries tend to have higher tar content, and are less likely to be filtered, potentially increasing vulnerability to tobacco smoking–related diseases in these regions.[4]\n",
      "\n",
      "According to the World Health Organization (WHO), \"[Smoking and oral] Tobacco use is the single greatest cause of preventable death globally.\"[5] As many as half of people who smoke tobacco or use the substance orally, die from complications related to such use.[3] The WHO estimates that each year in total about 6 million people die from tobacco-related causes (about 10% of all deaths) with 600,000 of these occurring in non-smokers due to second-hand smoke.[3][6] It is estimated to have caused 100 million deaths in the 20th century.[3] Similarly, the United States Centers for Disease Control and Prevention describes smoking tobacco and oral use of tobacco as \"the single most important preventable risk to human health in developed countries and an important cause of premature death worldwide.\"[7] Currently, the number of premature deaths in the U.S. from tobacco use per year outnumber the number of workers employed in the tobacco industry by 4 to 1.[8] According to a 2014 review in The New England Journal of Medicine, tobacco smoking will kill about 1 billion people in the 21st century if current smoking patterns persist, half of them before the age of 70.[9]\n",
      "\n",
      "China has the largest tobacco smoking population, followed by India. India has highest tobacco chewing population in the world. 154 people die every hour in India due to chewing and smoking tobacco.[10][11]\n",
      "\n"
     ]
    }
   ],
   "source": [
    "context = \"\"\"\n",
    "Tobacco products, especially when smoked or used orally, have negative effects on human health, and concerns about these effects have existed for a long time. Research has focused primarily on cigarette smoking.[1][2]\n",
    "\n",
    "Tobacco smoke contains more than 70 chemicals that cause cancer.[3] It also contains nicotine, which is a highly addictive psychoactive drug. When tobacco is smoked, nicotine causes physical and psychological dependency. Cigarettes sold in underdeveloped countries tend to have higher tar content, and are less likely to be filtered, potentially increasing vulnerability to tobacco smoking–related diseases in these regions.[4]\n",
    "\n",
    "According to the World Health Organization (WHO), \"[Smoking and oral] Tobacco use is the single greatest cause of preventable death globally.\"[5] As many as half of people who smoke tobacco or use the substance orally, die from complications related to such use.[3] The WHO estimates that each year in total about 6 million people die from tobacco-related causes (about 10% of all deaths) with 600,000 of these occurring in non-smokers due to second-hand smoke.[3][6] It is estimated to have caused 100 million deaths in the 20th century.[3] Similarly, the United States Centers for Disease Control and Prevention describes smoking tobacco and oral use of tobacco as \"the single most important preventable risk to human health in developed countries and an important cause of premature death worldwide.\"[7] Currently, the number of premature deaths in the U.S. from tobacco use per year outnumber the number of workers employed in the tobacco industry by 4 to 1.[8] According to a 2014 review in The New England Journal of Medicine, tobacco smoking will kill about 1 billion people in the 21st century if current smoking patterns persist, half of them before the age of 70.[9]\n",
    "\n",
    "China has the largest tobacco smoking population, followed by India. India has highest tobacco chewing population in the world. 154 people die every hour in India due to chewing and smoking tobacco.[10][11]\n",
    "\"\"\"\n",
    "\n",
    "print(context)"
   ]
  },
  {
   "cell_type": "code",
   "execution_count": 27,
   "metadata": {},
   "outputs": [
    {
     "name": "stdout",
     "output_type": "stream",
     "text": [
      "XDoc Response\n",
      "China\n",
      "\n",
      "Dolly Response\n",
      "China has the largest tobacco smoking population, followed by India. India has highest tobacco chewing population in the world. 154 people die every hour in India due to chewing and smoking tobacco.\n"
     ]
    }
   ],
   "source": [
    "question = 'Which contry has the largert tobacco smoking population?'\n",
    "\n",
    "print('XDoc Response')\n",
    "print(ask_xdoc(question, context))\n",
    "print('\\nDolly Response')\n",
    "print(ask_dolly(question, context))"
   ]
  }
 ],
 "metadata": {
  "kernelspec": {
   "display_name": "Python 3 (ipykernel)",
   "language": "python",
   "name": "python3"
  },
  "language_info": {
   "codemirror_mode": {
    "name": "ipython",
    "version": 3
   },
   "file_extension": ".py",
   "mimetype": "text/x-python",
   "name": "python",
   "nbconvert_exporter": "python",
   "pygments_lexer": "ipython3",
   "version": "3.10.2"
  }
 },
 "nbformat": 4,
 "nbformat_minor": 4
}
